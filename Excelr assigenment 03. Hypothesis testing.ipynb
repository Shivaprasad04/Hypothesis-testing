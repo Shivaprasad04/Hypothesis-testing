{
 "cells": [
  {
   "cell_type": "code",
   "execution_count": 1,
   "id": "d947359a",
   "metadata": {},
   "outputs": [],
   "source": [
    "import numpy as np\n",
    "import pandas as pd"
   ]
  },
  {
   "cell_type": "code",
   "execution_count": 2,
   "id": "3f294d94",
   "metadata": {},
   "outputs": [
    {
     "data": {
      "text/plain": [
       "Index(['Unit A', 'Unit B'], dtype='object')"
      ]
     },
     "execution_count": 2,
     "metadata": {},
     "output_type": "execute_result"
    }
   ],
   "source": [
    "df = pd.read_csv(r\"C:\\Users\\shiva\\Downloads\\Cutlets.csv\")\n",
    "df.columns"
   ]
  },
  {
   "cell_type": "code",
   "execution_count": 13,
   "id": "21fb3605",
   "metadata": {},
   "outputs": [
    {
     "name": "stdout",
     "output_type": "stream",
     "text": [
      "statistic1: 0.9649459719657898,p_value_unit_01:0.31998491287231445\n",
      "stastistic2:0.9727305769920349,p_value_unit_02:0.5225146412849426\n"
     ]
    }
   ],
   "source": [
    "from scipy.stats import ttest_ind\n",
    "from scipy.stats import shapiro\n",
    "from scipy.stats import levene\n",
    "\n",
    "# for normality check\n",
    "stat1, p_value_unit1 = shapiro(df['Unit A'])\n",
    "stat2, p_value_unit2 = shapiro(df['Unit B'])\n",
    "\n",
    "# Levene or bartletts test for homogeneity of variances\n",
    "statistic, p_value = levene(df['Unit A'], df['Unit B'])\n",
    "\n",
    "# Perform ind two-sample t-test for Hypothesis test\n",
    "t_stat, p_value_ttest = ttest_ind(df['Unit A'], df['Unit B'])\n",
    "\n",
    "\n",
    "print(f'statistic1: {stat1},p_value_unit_01:{p_value_unit1}')\n",
    "print(f'stastistic2:{stat2},p_value_unit_02:{p_value_unit2}')"
   ]
  },
  {
   "cell_type": "code",
   "execution_count": 4,
   "id": "09003c26",
   "metadata": {},
   "outputs": [
    {
     "name": "stdout",
     "output_type": "stream",
     "text": [
      "Levene test p-value for homogeneity of variances: (0.6650897638632386, 0.4176162212502553)\n",
      "Independent Two-Sample t-test p-value: 0.4722394724599501\n",
      "we are accepting the null hypothesis. There is no significant difference.\n"
     ]
    }
   ],
   "source": [
    "print(f'Levene test p-value for homogeneity of variances: {statistic,p_value}')\n",
    "print(f'Independent Two-Sample t-test p-value: {p_value_ttest}')\n",
    "\n",
    "if p_value_ttest < 0.05:\n",
    "    print('We are rejecting the null hypothesis. There is a significant difference.')\n",
    "else:\n",
    "    print('we are accepting the null hypothesis. There is no significant difference.')"
   ]
  },
  {
   "cell_type": "code",
   "execution_count": null,
   "id": "5b4d8185",
   "metadata": {},
   "outputs": [],
   "source": []
  },
  {
   "cell_type": "markdown",
   "id": "be591ade",
   "metadata": {},
   "source": [
    "# Q2"
   ]
  },
  {
   "cell_type": "code",
   "execution_count": 5,
   "id": "d52f3ab5",
   "metadata": {},
   "outputs": [
    {
     "data": {
      "text/html": [
       "<div>\n",
       "<style scoped>\n",
       "    .dataframe tbody tr th:only-of-type {\n",
       "        vertical-align: middle;\n",
       "    }\n",
       "\n",
       "    .dataframe tbody tr th {\n",
       "        vertical-align: top;\n",
       "    }\n",
       "\n",
       "    .dataframe thead th {\n",
       "        text-align: right;\n",
       "    }\n",
       "</style>\n",
       "<table border=\"1\" class=\"dataframe\">\n",
       "  <thead>\n",
       "    <tr style=\"text-align: right;\">\n",
       "      <th></th>\n",
       "      <th>Laboratory 1</th>\n",
       "      <th>Laboratory 2</th>\n",
       "      <th>Laboratory 3</th>\n",
       "      <th>Laboratory 4</th>\n",
       "    </tr>\n",
       "  </thead>\n",
       "  <tbody>\n",
       "    <tr>\n",
       "      <th>0</th>\n",
       "      <td>185.35</td>\n",
       "      <td>165.53</td>\n",
       "      <td>176.70</td>\n",
       "      <td>166.13</td>\n",
       "    </tr>\n",
       "    <tr>\n",
       "      <th>1</th>\n",
       "      <td>170.49</td>\n",
       "      <td>185.91</td>\n",
       "      <td>198.45</td>\n",
       "      <td>160.79</td>\n",
       "    </tr>\n",
       "    <tr>\n",
       "      <th>2</th>\n",
       "      <td>192.77</td>\n",
       "      <td>194.92</td>\n",
       "      <td>201.23</td>\n",
       "      <td>185.18</td>\n",
       "    </tr>\n",
       "    <tr>\n",
       "      <th>3</th>\n",
       "      <td>177.33</td>\n",
       "      <td>183.00</td>\n",
       "      <td>199.61</td>\n",
       "      <td>176.42</td>\n",
       "    </tr>\n",
       "    <tr>\n",
       "      <th>4</th>\n",
       "      <td>193.41</td>\n",
       "      <td>169.57</td>\n",
       "      <td>204.63</td>\n",
       "      <td>152.60</td>\n",
       "    </tr>\n",
       "    <tr>\n",
       "      <th>...</th>\n",
       "      <td>...</td>\n",
       "      <td>...</td>\n",
       "      <td>...</td>\n",
       "      <td>...</td>\n",
       "    </tr>\n",
       "    <tr>\n",
       "      <th>115</th>\n",
       "      <td>178.49</td>\n",
       "      <td>170.66</td>\n",
       "      <td>193.80</td>\n",
       "      <td>172.68</td>\n",
       "    </tr>\n",
       "    <tr>\n",
       "      <th>116</th>\n",
       "      <td>176.08</td>\n",
       "      <td>183.98</td>\n",
       "      <td>215.25</td>\n",
       "      <td>177.64</td>\n",
       "    </tr>\n",
       "    <tr>\n",
       "      <th>117</th>\n",
       "      <td>202.48</td>\n",
       "      <td>174.54</td>\n",
       "      <td>203.99</td>\n",
       "      <td>170.27</td>\n",
       "    </tr>\n",
       "    <tr>\n",
       "      <th>118</th>\n",
       "      <td>182.40</td>\n",
       "      <td>197.18</td>\n",
       "      <td>194.52</td>\n",
       "      <td>150.87</td>\n",
       "    </tr>\n",
       "    <tr>\n",
       "      <th>119</th>\n",
       "      <td>182.09</td>\n",
       "      <td>215.17</td>\n",
       "      <td>221.49</td>\n",
       "      <td>162.21</td>\n",
       "    </tr>\n",
       "  </tbody>\n",
       "</table>\n",
       "<p>120 rows × 4 columns</p>\n",
       "</div>"
      ],
      "text/plain": [
       "     Laboratory 1  Laboratory 2  Laboratory 3  Laboratory 4\n",
       "0          185.35        165.53        176.70        166.13\n",
       "1          170.49        185.91        198.45        160.79\n",
       "2          192.77        194.92        201.23        185.18\n",
       "3          177.33        183.00        199.61        176.42\n",
       "4          193.41        169.57        204.63        152.60\n",
       "..            ...           ...           ...           ...\n",
       "115        178.49        170.66        193.80        172.68\n",
       "116        176.08        183.98        215.25        177.64\n",
       "117        202.48        174.54        203.99        170.27\n",
       "118        182.40        197.18        194.52        150.87\n",
       "119        182.09        215.17        221.49        162.21\n",
       "\n",
       "[120 rows x 4 columns]"
      ]
     },
     "execution_count": 5,
     "metadata": {},
     "output_type": "execute_result"
    }
   ],
   "source": [
    "df1 = pd.read_csv(r\"C:\\Users\\shiva\\Downloads\\LabTAT.csv\")\n",
    "df1"
   ]
  },
  {
   "cell_type": "code",
   "execution_count": 6,
   "id": "6635e3f1",
   "metadata": {},
   "outputs": [
    {
     "name": "stdout",
     "output_type": "stream",
     "text": [
      "One-way ANOVA: F_statistic = 118.70421654401437, p_value = 2.1156708949992414e-57\n",
      "There is difference in average TAT among the laboratories.\n"
     ]
    }
   ],
   "source": [
    "from scipy.stats import f_oneway \n",
    "df1 = pd.read_csv(r\"C:\\Users\\shiva\\Downloads\\LabTAT.csv\")\n",
    "\n",
    "# Performimg one way Anova\n",
    "f_stat, p_value = f_oneway(df1['Laboratory 1'], df1['Laboratory 2'], df1['Laboratory 3'], df1['Laboratory 4'])\n",
    "\n",
    "print(f'One-way ANOVA: F_statistic = {f_stat}, p_value = {p_value}')\n",
    "\n",
    "# Check significance at 5% level,so 5 divided by 100 = 0.05.\n",
    "if p_value < 0.05:\n",
    "    print('There is difference in average TAT among the laboratories.')\n",
    "else:\n",
    "    print('There is no difference in average TAT among the laboratories.')    "
   ]
  },
  {
   "cell_type": "markdown",
   "id": "dfd64d51",
   "metadata": {},
   "source": [
    "# Q3"
   ]
  },
  {
   "cell_type": "code",
   "execution_count": 7,
   "id": "85aaa76a",
   "metadata": {},
   "outputs": [
    {
     "data": {
      "text/html": [
       "<div>\n",
       "<style scoped>\n",
       "    .dataframe tbody tr th:only-of-type {\n",
       "        vertical-align: middle;\n",
       "    }\n",
       "\n",
       "    .dataframe tbody tr th {\n",
       "        vertical-align: top;\n",
       "    }\n",
       "\n",
       "    .dataframe thead th {\n",
       "        text-align: right;\n",
       "    }\n",
       "</style>\n",
       "<table border=\"1\" class=\"dataframe\">\n",
       "  <thead>\n",
       "    <tr style=\"text-align: right;\">\n",
       "      <th></th>\n",
       "      <th>Observed Values</th>\n",
       "      <th>East</th>\n",
       "      <th>West</th>\n",
       "      <th>North</th>\n",
       "      <th>South</th>\n",
       "    </tr>\n",
       "  </thead>\n",
       "  <tbody>\n",
       "    <tr>\n",
       "      <th>0</th>\n",
       "      <td>Males</td>\n",
       "      <td>50</td>\n",
       "      <td>142</td>\n",
       "      <td>131</td>\n",
       "      <td>70</td>\n",
       "    </tr>\n",
       "    <tr>\n",
       "      <th>1</th>\n",
       "      <td>Females</td>\n",
       "      <td>435</td>\n",
       "      <td>1523</td>\n",
       "      <td>1356</td>\n",
       "      <td>750</td>\n",
       "    </tr>\n",
       "  </tbody>\n",
       "</table>\n",
       "</div>"
      ],
      "text/plain": [
       "  Observed Values  East  West  North  South\n",
       "0           Males    50   142    131     70\n",
       "1         Females   435  1523   1356    750"
      ]
     },
     "execution_count": 7,
     "metadata": {},
     "output_type": "execute_result"
    }
   ],
   "source": [
    "df3 = pd.read_csv(r\"C:\\Users\\shiva\\Downloads\\BuyerRatio.csv\")\n",
    "df3"
   ]
  },
  {
   "cell_type": "code",
   "execution_count": 8,
   "id": "772d46bb",
   "metadata": {},
   "outputs": [],
   "source": [
    "from scipy.stats import chi2_contingency\n",
    "import scipy.stats as stat"
   ]
  },
  {
   "cell_type": "code",
   "execution_count": 30,
   "id": "6cdd5d2c",
   "metadata": {},
   "outputs": [
    {
     "name": "stdout",
     "output_type": "stream",
     "text": [
      "\n",
      "DataFrame:\n",
      "        Males  Females\n",
      "Region                \n",
      "East       50      435\n",
      "West      142     1523\n",
      "North     131     1356\n",
      "South      70      750\n",
      "Chi-Square Stat: 1.5959455386610577\n",
      "P-value: 0.6603094907091882\n",
      "Degree_of_fredom: 3\n",
      "Expected_frequency_tabel:\n",
      " [[  42.76531299  442.23468701]\n",
      " [ 146.81287862 1518.18712138]\n",
      " [ 131.11756787 1355.88243213]\n",
      " [  72.30424052  747.69575948]]\n",
      "There is no significant difference in male-female buyer ratios across regions.\n"
     ]
    }
   ],
   "source": [
    "df3 = pd.DataFrame({\n",
    "    'Region': ['East', 'West', 'North', 'South'],\n",
    "    'Males': [50, 142, 131, 70],\n",
    "    'Females': [435, 1523, 1356, 750]\n",
    "})\n",
    "df3.set_index('Region', inplace=True)\n",
    "print(\"\\nDataFrame:\")\n",
    "print(df3)\n",
    "\n",
    "# chisquare test of independence\n",
    "chi2_stat, p_value,dof,exp_fre_tab = chi2_contingency(df3)\n",
    "print('Chi-Square Stat:', chi2_stat)\n",
    "print('P-value:',p_value)\n",
    "print('Degree_of_fredom:',dof)\n",
    "print('Expected_frequency_tabel:\\n',exp_fre_tab)\n",
    "\n",
    "# level of significance =0.05 = 5%.\n",
    "if p_value < 0.05:\n",
    "    print(\"There is significant difference in male-female buyer ratios across regions.\")\n",
    "else:\n",
    "    print(\"There is no significant difference in male-female buyer ratios across regions.\")"
   ]
  },
  {
   "cell_type": "markdown",
   "id": "b96ec812",
   "metadata": {},
   "source": [
    "# Q4"
   ]
  },
  {
   "cell_type": "code",
   "execution_count": 10,
   "id": "05e15952",
   "metadata": {},
   "outputs": [
    {
     "data": {
      "text/html": [
       "<div>\n",
       "<style scoped>\n",
       "    .dataframe tbody tr th:only-of-type {\n",
       "        vertical-align: middle;\n",
       "    }\n",
       "\n",
       "    .dataframe tbody tr th {\n",
       "        vertical-align: top;\n",
       "    }\n",
       "\n",
       "    .dataframe thead th {\n",
       "        text-align: right;\n",
       "    }\n",
       "</style>\n",
       "<table border=\"1\" class=\"dataframe\">\n",
       "  <thead>\n",
       "    <tr style=\"text-align: right;\">\n",
       "      <th></th>\n",
       "      <th>Phillippines</th>\n",
       "      <th>Indonesia</th>\n",
       "      <th>Malta</th>\n",
       "      <th>India</th>\n",
       "    </tr>\n",
       "  </thead>\n",
       "  <tbody>\n",
       "    <tr>\n",
       "      <th>0</th>\n",
       "      <td>Error Free</td>\n",
       "      <td>Error Free</td>\n",
       "      <td>Defective</td>\n",
       "      <td>Error Free</td>\n",
       "    </tr>\n",
       "    <tr>\n",
       "      <th>1</th>\n",
       "      <td>Error Free</td>\n",
       "      <td>Error Free</td>\n",
       "      <td>Error Free</td>\n",
       "      <td>Defective</td>\n",
       "    </tr>\n",
       "    <tr>\n",
       "      <th>2</th>\n",
       "      <td>Error Free</td>\n",
       "      <td>Defective</td>\n",
       "      <td>Defective</td>\n",
       "      <td>Error Free</td>\n",
       "    </tr>\n",
       "    <tr>\n",
       "      <th>3</th>\n",
       "      <td>Error Free</td>\n",
       "      <td>Error Free</td>\n",
       "      <td>Error Free</td>\n",
       "      <td>Error Free</td>\n",
       "    </tr>\n",
       "    <tr>\n",
       "      <th>4</th>\n",
       "      <td>Error Free</td>\n",
       "      <td>Error Free</td>\n",
       "      <td>Defective</td>\n",
       "      <td>Error Free</td>\n",
       "    </tr>\n",
       "    <tr>\n",
       "      <th>...</th>\n",
       "      <td>...</td>\n",
       "      <td>...</td>\n",
       "      <td>...</td>\n",
       "      <td>...</td>\n",
       "    </tr>\n",
       "    <tr>\n",
       "      <th>295</th>\n",
       "      <td>Error Free</td>\n",
       "      <td>Error Free</td>\n",
       "      <td>Error Free</td>\n",
       "      <td>Error Free</td>\n",
       "    </tr>\n",
       "    <tr>\n",
       "      <th>296</th>\n",
       "      <td>Error Free</td>\n",
       "      <td>Error Free</td>\n",
       "      <td>Error Free</td>\n",
       "      <td>Error Free</td>\n",
       "    </tr>\n",
       "    <tr>\n",
       "      <th>297</th>\n",
       "      <td>Error Free</td>\n",
       "      <td>Error Free</td>\n",
       "      <td>Defective</td>\n",
       "      <td>Error Free</td>\n",
       "    </tr>\n",
       "    <tr>\n",
       "      <th>298</th>\n",
       "      <td>Error Free</td>\n",
       "      <td>Error Free</td>\n",
       "      <td>Error Free</td>\n",
       "      <td>Error Free</td>\n",
       "    </tr>\n",
       "    <tr>\n",
       "      <th>299</th>\n",
       "      <td>Error Free</td>\n",
       "      <td>Defective</td>\n",
       "      <td>Defective</td>\n",
       "      <td>Error Free</td>\n",
       "    </tr>\n",
       "  </tbody>\n",
       "</table>\n",
       "<p>300 rows × 4 columns</p>\n",
       "</div>"
      ],
      "text/plain": [
       "    Phillippines   Indonesia       Malta       India\n",
       "0     Error Free  Error Free   Defective  Error Free\n",
       "1     Error Free  Error Free  Error Free   Defective\n",
       "2     Error Free   Defective   Defective  Error Free\n",
       "3     Error Free  Error Free  Error Free  Error Free\n",
       "4     Error Free  Error Free   Defective  Error Free\n",
       "..           ...         ...         ...         ...\n",
       "295   Error Free  Error Free  Error Free  Error Free\n",
       "296   Error Free  Error Free  Error Free  Error Free\n",
       "297   Error Free  Error Free   Defective  Error Free\n",
       "298   Error Free  Error Free  Error Free  Error Free\n",
       "299   Error Free   Defective   Defective  Error Free\n",
       "\n",
       "[300 rows x 4 columns]"
      ]
     },
     "execution_count": 10,
     "metadata": {},
     "output_type": "execute_result"
    }
   ],
   "source": [
    "from scipy.stats import chi2_contingency\n",
    "import scipy.stats as stat\n",
    "df4 = pd.read_csv(r\"C:\\Users\\shiva\\Downloads\\Costomer+OrderForm.csv\")\n",
    "df4"
   ]
  },
  {
   "cell_type": "code",
   "execution_count": 33,
   "id": "2cb15fe5",
   "metadata": {},
   "outputs": [
    {
     "name": "stdout",
     "output_type": "stream",
     "text": [
      "\n",
      "Contingency Table:\n",
      "Defective     Defective\n",
      "Center                 \n",
      "India                 1\n",
      "Indonesia             1\n",
      "Malta                 1\n",
      "Phillippines          1\n",
      "Chi-Square Statistic: 0.0\n",
      "P_value: 1.0\n",
      "Degree-of-fredom: 0\n",
      "Expected_frequency_tabel: [[1.]\n",
      " [1.]\n",
      " [1.]\n",
      " [1.]]\n",
      "There is no significant variation in defective percentage by center.\n"
     ]
    }
   ],
   "source": [
    "#Center = (['Phillippines'],['Indonesia'],['Malta'],['India'])\n",
    "#Defective = (['Error free'],['Defective'])\n",
    "\n",
    "df4 = pd.DataFrame({\n",
    "    'Center': ['Phillippines', 'Indonesia', 'Malta', 'India'],\n",
    "    'Defective': [\n",
    "        ['Error free', 'Defective'],\n",
    "        ['Error free', 'Defective'],\n",
    "        ['Error free', 'Defective'],\n",
    "        ['Error free', 'Defective']\n",
    "    ]\n",
    "})\n",
    "\n",
    "# Create a contingency table\n",
    "contingency_table = pd.crosstab(df4['Center'], df4['Defective'].apply(lambda x: x[1]))\n",
    "\n",
    "print('\\nContingency Table:')\n",
    "print(contingency_table)\n",
    "# Perform Chi-Square Test for Independence\n",
    "chi2_stat, p_value,dof,exp_frq_tab = chi2_contingency(contingency_table)\n",
    "\n",
    "print(f'Chi-Square Statistic: {chi2_stat}')\n",
    "print(f'P_value: {p_value}')\n",
    "print(f'Degree-of-fredom: {dof}')\n",
    "print(f'Expected_frequency_tabel: {exp_frq_tab}')\n",
    "\n",
    "\n",
    "if p_value < 0.05:\n",
    "    print(\"There is a significant variation in defective percentage by center.\")\n",
    "else:\n",
    "    print(\"There is no significant variation in defective percentage by center.\")\n"
   ]
  },
  {
   "cell_type": "code",
   "execution_count": null,
   "id": "4ebecfee",
   "metadata": {},
   "outputs": [],
   "source": []
  },
  {
   "cell_type": "code",
   "execution_count": null,
   "id": "61c04af4",
   "metadata": {},
   "outputs": [],
   "source": []
  },
  {
   "cell_type": "code",
   "execution_count": null,
   "id": "63b2fc8b",
   "metadata": {},
   "outputs": [],
   "source": []
  },
  {
   "cell_type": "code",
   "execution_count": null,
   "id": "264fece4",
   "metadata": {},
   "outputs": [],
   "source": []
  },
  {
   "cell_type": "code",
   "execution_count": null,
   "id": "0cfa5404",
   "metadata": {},
   "outputs": [],
   "source": []
  }
 ],
 "metadata": {
  "kernelspec": {
   "display_name": "Python 3 (ipykernel)",
   "language": "python",
   "name": "python3"
  },
  "language_info": {
   "codemirror_mode": {
    "name": "ipython",
    "version": 3
   },
   "file_extension": ".py",
   "mimetype": "text/x-python",
   "name": "python",
   "nbconvert_exporter": "python",
   "pygments_lexer": "ipython3",
   "version": "3.11.5"
  }
 },
 "nbformat": 4,
 "nbformat_minor": 5
}
